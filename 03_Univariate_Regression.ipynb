{
 "cells": [
  {
   "cell_type": "markdown",
   "metadata": {},
   "source": [
    "# Univariate Regression"
   ]
  },
  {
   "cell_type": "markdown",
   "metadata": {},
   "source": [
    "The goal is to predict a single scalar output $y \\in \\mathbb{R}$ from input $x$ using a model $f_\\theta(x)$ with parameters $\\theta$.\n",
    "\n",
    "We select the univariate normal, which is defined over $y \\in \\mathbb{R}$. This distribution has two parameters (mean $\\mu$ and variance $\\sigma^2$).\n",
    "\n",
    "$$\n",
    "p(y|\\mu, \\sigma^2) = \\frac{1}{\\sqrt{2\\pi\\sigma^2}}\\exp\\left[-\\frac{(y-\\mu)^2}{2\\sigma^2}\\right]\n",
    "$$\n",
    "\n",
    "We set the machine learning model to compute the mean.\n",
    "$$\n",
    "\\mu = f_\\theta(x)\n",
    "$$"
   ]
  },
  {
   "cell_type": "markdown",
   "metadata": {},
   "source": [
    "We choose a loss function based on the negative log-likelihood.\n",
    "$$\n",
    "\\begin{align}\n",
    "L(\\theta) & = -\\sum_{i=1}^{N}\\log p(y_i|f_\\theta(x_i), \\sigma^2) \\\\\n",
    "& = -\\sum_{i=1}^{N}\\log\\left[ \\frac{1}{\\sqrt{2\\pi\\sigma^2}}\\exp\\left[-\\frac{(y-f_\\theta(x_i))^2}{2\\sigma^2}\\right] \\right]\n",
    "\\end{align}\n",
    "$$"
   ]
  },
  {
   "cell_type": "markdown",
   "metadata": {},
   "source": [
    "When the train the model, we seek parameters $\\hat{\\theta}$ that minimize the loss.\n",
    "$$\n",
    "\\begin{align}\n",
    "\\hat{\\theta} & = \\underset{\\theta}{\\mathrm{argmin}}\\left[\n",
    "  -\\sum_{i=1}^{N}\\log\\left[ \\frac{1}{\\sqrt{2\\pi\\sigma^2}}\\exp\\left[-\\frac{(y-f_\\theta(x_i))^2}{2\\sigma^2}\\right] \\right]\n",
    "  \\right] \\\\\n",
    "& = \\underset{\\theta}{\\mathrm{argmin}}\\left[\n",
    "  -\\sum_{i=1}^{N}\n",
    "  \\left( \\log \\left[\\frac{1}{\\sqrt{2\\pi\\sigma^2}} \\right]\n",
    "  -\\frac{(y-f_\\theta(x_i))^2}{2\\sigma^2} \\right) \\right]\\\\\n",
    "& = \\underset{\\theta}{\\mathrm{argmin}}\\left[\n",
    "  -\\sum_{i=1}^{N}\n",
    "  \\left(\n",
    "  -\\frac{(y-f_\\theta(x_i))^2}{2\\sigma^2} \\right) \\right]\\\\\n",
    "& = \\underset{\\theta}{\\mathrm{argmin}}\\left[\n",
    "  \\sum_{i=1}^{N} (y-f_\\theta(x_i))^2 \\right]\\\\\n",
    "\\end{align}\n",
    "$$"
   ]
  },
  {
   "cell_type": "markdown",
   "metadata": {},
   "source": [
    "Therefore, we have a **least squares loss** function.\n",
    "\n",
    "$$\n",
    "L(\\theta) = \\sum_{i=1}^{N} (y_i-f_\\theta(x_i))^2\n",
    "$$"
   ]
  },
  {
   "cell_type": "markdown",
   "metadata": {},
   "source": [
    "\n",
    "When we perform inference, we usually want a single \"best\" point estimate $\\hat{y}$, so we take the maximum of the predicted distribution:\n",
    "\n",
    "$$\n",
    "\\hat{y} = \\underset{\\theta}{\\mathrm{argmax}} \\; p(y|f_{\\hat{\\theta}}(x), \\sigma^2)\n",
    "$$\n",
    "\n",
    "For the univariate normal, the maximum position is determined by the mean parameter $\\mu$. This is precisely what the model computed, so\n",
    "\n",
    "$$\n",
    "\\hat{y} = f_{\\hat{\\theta}}(x)\n",
    "$$"
   ]
  },
  {
   "cell_type": "markdown",
   "metadata": {},
   "source": [
    "## Mean squared error (MSE)\n",
    "\n",
    "$$\n",
    "\\text{MSE}(a,b) = \\frac{1}{N}\\sum_i^N(a_i - b_i)^2\n",
    "$$"
   ]
  },
  {
   "cell_type": "code",
   "execution_count": null,
   "metadata": {},
   "outputs": [],
   "source": [
    "import torch\n",
    "from torch import nn"
   ]
  },
  {
   "cell_type": "code",
   "execution_count": null,
   "metadata": {},
   "outputs": [
    {
     "data": {
      "text/plain": [
       "tensor(17.)"
      ]
     },
     "execution_count": null,
     "metadata": {},
     "output_type": "execute_result"
    }
   ],
   "source": [
    "mse = nn.MSELoss()\n",
    "a = torch.tensor([1.0, 7.0])\n",
    "b = torch.tensor([4.0, 2.0])\n",
    "mse(a, b)"
   ]
  },
  {
   "cell_type": "markdown",
   "metadata": {},
   "source": [
    "## Imports"
   ]
  },
  {
   "cell_type": "code",
   "execution_count": null,
   "metadata": {},
   "outputs": [],
   "source": [
    "import numpy as np\n",
    "import matplotlib.pyplot as plt\n",
    "\n",
    "import torch\n",
    "import torch.nn as nn\n",
    "import torch.optim as optim\n",
    "from torch.utils.data import Dataset, DataLoader"
   ]
  },
  {
   "cell_type": "markdown",
   "metadata": {},
   "source": [
    "## Data"
   ]
  },
  {
   "cell_type": "code",
   "execution_count": null,
   "metadata": {},
   "outputs": [
    {
     "data": {
      "text/plain": [
       "torch.Size([100, 1])"
      ]
     },
     "execution_count": null,
     "metadata": {},
     "output_type": "execute_result"
    }
   ],
   "source": [
    "# Data\n",
    "# y = 2x + 5\n",
    "N = 100\n",
    "x = torch.linspace(-10, 10, N).view(-1, 1)  #(N, 1)\n",
    "x.shape"
   ]
  },
  {
   "cell_type": "code",
   "execution_count": null,
   "metadata": {},
   "outputs": [
    {
     "data": {
      "text/plain": [
       "torch.Size([100, 1])"
      ]
     },
     "execution_count": null,
     "metadata": {},
     "output_type": "execute_result"
    }
   ],
   "source": [
    "noise = torch.randn_like(x) * 2\n",
    "y = 2*x + 5 + noise\n",
    "y.shape"
   ]
  },
  {
   "cell_type": "code",
   "execution_count": null,
   "metadata": {},
   "outputs": [],
   "source": [
    "def y_true(x):\n",
    "  return 2*x + 5"
   ]
  },
  {
   "cell_type": "code",
   "execution_count": null,
   "metadata": {},
   "outputs": [
    {
     "data": {
      "image/png": "[encoded data removed]",
      "text/plain": [
       "<Figure size 640x480 with 1 Axes>"
      ]
     },
     "metadata": {},
     "output_type": "display_data"
    }
   ],
   "source": [
    "plt.figure()\n",
    "plt.plot(x, y, 'o', label='data', color='black')\n",
    "plt.plot(x, y_true(x), '-', label='y=2x + 5', color='red')\n",
    "plt.xlabel('x')\n",
    "plt.ylabel('y')\n",
    "plt.legend()\n",
    "plt.show()"
   ]
  },
  {
   "cell_type": "markdown",
   "metadata": {},
   "source": [
    "## Dataset, DataLoader"
   ]
  },
  {
   "cell_type": "code",
   "execution_count": null,
   "metadata": {},
   "outputs": [],
   "source": [
    "class RegressionDataset(Dataset):\n",
    "    def __init__(self, N=100):\n",
    "        x = torch.linspace(-10, 10, N).view(-1, 1)\n",
    "        noise = torch.randn_like(x) * 2\n",
    "        y = 2*x + 5 + noise\n",
    "        self.x = x\n",
    "        self.y = y\n",
    "\n",
    "    def __len__(self):\n",
    "        return len(self.x)\n",
    "\n",
    "    def __getitem__(self, idx):\n",
    "        return self.x[idx], self.y[idx]"
   ]
  },
  {
   "cell_type": "code",
   "execution_count": null,
   "metadata": {},
   "outputs": [
    {
     "data": {
      "text/plain": [
       "100"
      ]
     },
     "execution_count": null,
     "metadata": {},
     "output_type": "execute_result"
    }
   ],
   "source": [
    "dataset = RegressionDataset()\n",
    "len(dataset)"
   ]
  },
  {
   "cell_type": "code",
   "execution_count": null,
   "metadata": {},
   "outputs": [
    {
     "data": {
      "text/plain": [
       "(tensor([-10.]), tensor([-12.1419]))"
      ]
     },
     "execution_count": null,
     "metadata": {},
     "output_type": "execute_result"
    }
   ],
   "source": [
    "sample = dataset[0]\n",
    "sample"
   ]
  },
  {
   "cell_type": "code",
   "execution_count": null,
   "metadata": {},
   "outputs": [
    {
     "data": {
      "image/png": "[encoded data removed]",
      "text/plain": [
       "<Figure size 640x480 with 1 Axes>"
      ]
     },
     "metadata": {},
     "output_type": "display_data"
    }
   ],
   "source": [
    "plt.figure()\n",
    "plt.plot(dataset.x, dataset.y, 'o', label='data', color='black')\n",
    "plt.plot(dataset.x, y_true(dataset.x), '-', label='y=2x + 5', color='red')\n",
    "plt.xlabel('x')\n",
    "plt.ylabel('y')\n",
    "plt.legend()\n",
    "plt.show()"
   ]
  },
  {
   "cell_type": "code",
   "execution_count": null,
   "metadata": {},
   "outputs": [],
   "source": [
    "dataloader = DataLoader(dataset, batch_size=2, shuffle=False)"
   ]
  },
  {
   "cell_type": "code",
   "execution_count": null,
   "metadata": {},
   "outputs": [
    {
     "name": "stdout",
     "output_type": "stream",
     "text": [
      "<class 'list'>\n"
     ]
    },
    {
     "data": {
      "text/plain": [
       "[tensor([[-10.0000],\n",
       "         [ -9.7980]]),\n",
       " tensor([[-12.1419],\n",
       "         [-13.9543]])]"
      ]
     },
     "execution_count": null,
     "metadata": {},
     "output_type": "execute_result"
    }
   ],
   "source": [
    "for batch in dataloader:\n",
    "  batch\n",
    "  break\n",
    "print(type(batch))\n",
    "batch"
   ]
  },
  {
   "cell_type": "code",
   "execution_count": null,
   "metadata": {},
   "outputs": [
    {
     "data": {
      "text/plain": [
       "[tensor([[-10.0000],\n",
       "         [ -9.7980]]),\n",
       " tensor([[-12.1419],\n",
       "         [-13.9543]])]"
      ]
     },
     "execution_count": null,
     "metadata": {},
     "output_type": "execute_result"
    }
   ],
   "source": [
    "batch = next(iter(dataloader))\n",
    "batch"
   ]
  },
  {
   "cell_type": "code",
   "execution_count": null,
   "metadata": {},
   "outputs": [
    {
     "data": {
      "text/plain": [
       "(tensor([-10.]), tensor([-12.1419]))"
      ]
     },
     "execution_count": null,
     "metadata": {},
     "output_type": "execute_result"
    }
   ],
   "source": [
    "dataset[0]"
   ]
  },
  {
   "cell_type": "code",
   "execution_count": null,
   "metadata": {},
   "outputs": [
    {
     "data": {
      "text/plain": [
       "(tensor([-9.7980]), tensor([-13.9543]))"
      ]
     },
     "execution_count": null,
     "metadata": {},
     "output_type": "execute_result"
    }
   ],
   "source": [
    "dataset[1]"
   ]
  },
  {
   "cell_type": "markdown",
   "metadata": {},
   "source": [
    "## torch.nn"
   ]
  },
  {
   "cell_type": "code",
   "execution_count": null,
   "metadata": {},
   "outputs": [
    {
     "data": {
      "text/plain": [
       "Linear(in_features=1, out_features=3, bias=True)"
      ]
     },
     "execution_count": null,
     "metadata": {},
     "output_type": "execute_result"
    }
   ],
   "source": [
    "layer = nn.Linear(1, 3)\n",
    "layer"
   ]
  },
  {
   "cell_type": "code",
   "execution_count": null,
   "metadata": {},
   "outputs": [
    {
     "name": "stdout",
     "output_type": "stream",
     "text": [
      "tensor([[-10.0000],\n",
      "        [ -9.7980]])\n"
     ]
    },
    {
     "data": {
      "text/plain": [
       "torch.Size([2, 1])"
      ]
     },
     "execution_count": null,
     "metadata": {},
     "output_type": "execute_result"
    }
   ],
   "source": [
    "inputs = batch[0]\n",
    "print(inputs)\n",
    "inputs.shape  # (batch_size, 1)"
   ]
  },
  {
   "cell_type": "code",
   "execution_count": null,
   "metadata": {},
   "outputs": [
    {
     "name": "stdout",
     "output_type": "stream",
     "text": [
      "tensor([[-6.3013, -7.2516, -5.0738],\n",
      "        [-6.1811, -7.0946, -4.9693]], grad_fn=<AddmmBackward0>)\n"
     ]
    },
    {
     "data": {
      "text/plain": [
       "torch.Size([2, 3])"
      ]
     },
     "execution_count": null,
     "metadata": {},
     "output_type": "execute_result"
    }
   ],
   "source": [
    "outputs = layer(inputs)\n",
    "print(outputs)\n",
    "outputs.shape  # (batch_size, out_features)"
   ]
  },
  {
   "cell_type": "code",
   "execution_count": null,
   "metadata": {},
   "outputs": [
    {
     "name": "stdout",
     "output_type": "stream",
     "text": [
      "Parameter containing:\n",
      "tensor([[0.5949],\n",
      "        [0.7770],\n",
      "        [0.5170]], requires_grad=True)\n",
      "\n",
      "Parameter containing:\n",
      "tensor([-0.3524,  0.5187,  0.0963], requires_grad=True)\n",
      "\n"
     ]
    }
   ],
   "source": [
    "params = []\n",
    "for p in layer.parameters():\n",
    "  print(p, end='\\n\\n')\n",
    "  params.append(p.data)"
   ]
  },
  {
   "cell_type": "code",
   "execution_count": null,
   "metadata": {},
   "outputs": [
    {
     "data": {
      "text/plain": [
       "torch.Size([3, 1])"
      ]
     },
     "execution_count": null,
     "metadata": {},
     "output_type": "execute_result"
    }
   ],
   "source": [
    "A = params[0]  # weight\n",
    "A.shape"
   ]
  },
  {
   "cell_type": "code",
   "execution_count": null,
   "metadata": {},
   "outputs": [
    {
     "data": {
      "text/plain": [
       "torch.Size([3])"
      ]
     },
     "execution_count": null,
     "metadata": {},
     "output_type": "execute_result"
    }
   ],
   "source": [
    "b = params[1]  # bias\n",
    "b.shape"
   ]
  },
  {
   "cell_type": "markdown",
   "metadata": {},
   "source": [
    "### nn.Linear\n",
    "\n",
    "https://pytorch.org/docs/stable/generated/torch.nn.Linear.html\n",
    "\n",
    "$$\n",
    "y = x A^T + b\n",
    "$$\n",
    "\n",
    "- $x$: Input $(N, d_\\text{in})$\n",
    "- $A$: Weight matrix $(d_\\text{out}, d_\\text{in})$\n",
    "  - $A^T$: Transpose of $A$ $(d_\\text{in}, d_\\text{out})$\n",
    "- $b$: Bias $(d_\\text{out})$\n",
    "\n",
    "$$\n",
    "(N, d_\\text{in}) \\times (d_\\text{in}, d_\\text{out}) + (d_\\text{out}) \\rightarrow (N, d_\\text{out})\n",
    "$$"
   ]
  },
  {
   "cell_type": "code",
   "execution_count": null,
   "metadata": {},
   "outputs": [
    {
     "name": "stdout",
     "output_type": "stream",
     "text": [
      "tensor([[-5.9489, -7.7703, -5.1700],\n",
      "        [-5.8287, -7.6133, -5.0656]])\n"
     ]
    },
    {
     "data": {
      "text/plain": [
       "torch.Size([2, 3])"
      ]
     },
     "execution_count": null,
     "metadata": {},
     "output_type": "execute_result"
    }
   ],
   "source": [
    "# (N, d_out)\n",
    "intermediate = inputs @ A.T\n",
    "print(intermediate)\n",
    "intermediate.shape"
   ]
  },
  {
   "cell_type": "code",
   "execution_count": null,
   "metadata": {},
   "outputs": [
    {
     "name": "stdout",
     "output_type": "stream",
     "text": [
      "tensor([-0.3524,  0.5187,  0.0963])\n",
      "torch.Size([3])\n"
     ]
    }
   ],
   "source": [
    "print(b)\n",
    "print(b.shape)"
   ]
  },
  {
   "cell_type": "code",
   "execution_count": null,
   "metadata": {},
   "outputs": [
    {
     "name": "stdout",
     "output_type": "stream",
     "text": [
      "tensor([-5.9489, -7.7703, -5.1700])\n",
      "tensor([-6.3013, -7.2516, -5.0738])\n"
     ]
    }
   ],
   "source": [
    "print(intermediate[0, :])\n",
    "print(intermediate[0, :] + b)"
   ]
  },
  {
   "cell_type": "code",
   "execution_count": null,
   "metadata": {},
   "outputs": [
    {
     "name": "stdout",
     "output_type": "stream",
     "text": [
      "tensor([-5.8287, -7.6133, -5.0656])\n",
      "tensor([-6.1811, -7.0946, -4.9693])\n"
     ]
    }
   ],
   "source": [
    "print(intermediate[1, :])\n",
    "print(intermediate[1, :] + b)"
   ]
  },
  {
   "cell_type": "code",
   "execution_count": null,
   "metadata": {},
   "outputs": [
    {
     "name": "stdout",
     "output_type": "stream",
     "text": [
      "tensor([[-6.3013, -7.2516, -5.0738],\n",
      "        [-6.1811, -7.0946, -4.9693]], grad_fn=<AddmmBackward0>)\n"
     ]
    }
   ],
   "source": [
    "print(outputs)"
   ]
  },
  {
   "cell_type": "markdown",
   "metadata": {},
   "source": [
    "## Broadcasting\n",
    "\n",
    "https://numpy.org/doc/stable/user/basics.broadcasting.html\n",
    "\n",
    "The term broadcasting describes how NumPy treats arrays with different shapes during arithmetic operations. Subject to certain constraints, the smaller array is “broadcast” across the larger array so that they have compatible shapes. Broadcasting provides a means of vectorizing array operations so that looping occurs in C instead of Python. It does this without making needless copies of data and usually leads to efficient algorithm implementations. There are, however, cases where broadcasting is a bad idea because it leads to inefficient use of memory that slows computation.\n",
    "\n",
    "#### General broadcasting rules\n",
    "When operating on two arrays, NumPy compares their shapes element-wise. It starts with the trailing (i.e. rightmost) dimension and works its way left. Two dimensions are compatible when\n",
    "\n",
    "- they are equal, or\n",
    "\n",
    "- one of them is 1.\n",
    "\n",
    "If these conditions are not met, a `ValueError: operands could not be broadcast together` exception is thrown, indicating that the arrays have incompatible shapes.\n",
    "\n",
    "Input arrays do not need to have the same number of dimensions. The resulting array will have the same number of dimensions as the input array with the greatest number of dimensions, where the size of each dimension is the largest size of the corresponding dimension among the input arrays. **Note that missing dimensions are assumed to have size one**."
   ]
  },
  {
   "cell_type": "code",
   "execution_count": null,
   "metadata": {},
   "outputs": [
    {
     "name": "stdout",
     "output_type": "stream",
     "text": [
      "torch.Size([2, 3])\n",
      "torch.Size([3])\n",
      "torch.Size([2, 3])\n"
     ]
    }
   ],
   "source": [
    "# broadcasting\n",
    "# (N, d_out) + (d_out) =>\n",
    "# (N, d_out) + (1, d_out) =>\n",
    "# (N, d_out) + (N, d_out) =>\n",
    "# (N, d_out)\n",
    "intermediate = inputs @ A.T\n",
    "print(intermediate.shape)\n",
    "print(b.shape)\n",
    "output_manual = intermediate + b\n",
    "print(output_manual.shape)"
   ]
  },
  {
   "cell_type": "code",
   "execution_count": null,
   "metadata": {},
   "outputs": [
    {
     "name": "stdout",
     "output_type": "stream",
     "text": [
      "tensor([[-6.3013, -7.2516, -5.0738],\n",
      "        [-6.1811, -7.0946, -4.9693]])\n",
      "\n",
      "tensor([[-6.3013, -7.2516, -5.0738],\n",
      "        [-6.1811, -7.0946, -4.9693]], grad_fn=<AddmmBackward0>)\n"
     ]
    }
   ],
   "source": [
    "print(inputs @ A.T + b)\n",
    "print()\n",
    "print(layer(inputs))"
   ]
  },
  {
   "cell_type": "markdown",
   "metadata": {},
   "source": [
    "## Model"
   ]
  },
  {
   "cell_type": "code",
   "execution_count": null,
   "metadata": {},
   "outputs": [],
   "source": [
    "# Define Model\n",
    "class RegressionModel(nn.Module):\n",
    "    def __init__(self):\n",
    "        super().__init__()\n",
    "\n",
    "        self.model = nn.Linear(1, 1)\n",
    "\n",
    "    def forward(self, x):\n",
    "        return self.model(x)"
   ]
  },
  {
   "cell_type": "code",
   "execution_count": null,
   "metadata": {},
   "outputs": [
    {
     "data": {
      "text/plain": [
       "tensor([[-10.0000],\n",
       "        [ -9.7980]])"
      ]
     },
     "execution_count": null,
     "metadata": {},
     "output_type": "execute_result"
    }
   ],
   "source": [
    "inputs"
   ]
  },
  {
   "cell_type": "code",
   "execution_count": null,
   "metadata": {},
   "outputs": [
    {
     "data": {
      "text/plain": [
       "tensor([[-0.2422],\n",
       "        [-0.2450]], grad_fn=<AddmmBackward0>)"
      ]
     },
     "execution_count": null,
     "metadata": {},
     "output_type": "execute_result"
    }
   ],
   "source": [
    "model = RegressionModel()\n",
    "model(inputs)"
   ]
  },
  {
   "cell_type": "code",
   "execution_count": null,
   "metadata": {},
   "outputs": [
    {
     "name": "stdout",
     "output_type": "stream",
     "text": [
      "Parameter containing:\n",
      "tensor([[-0.0143]], requires_grad=True)\n",
      "Parameter containing:\n",
      "tensor([-0.3848], requires_grad=True)\n"
     ]
    }
   ],
   "source": [
    "params = []\n",
    "for p in model.parameters():\n",
    "  print(p)\n",
    "  params.append(p.data)"
   ]
  },
  {
   "cell_type": "code",
   "execution_count": null,
   "metadata": {},
   "outputs": [
    {
     "data": {
      "text/plain": [
       "tensor([[-0.2422],\n",
       "        [-0.2450]])"
      ]
     },
     "execution_count": null,
     "metadata": {},
     "output_type": "execute_result"
    }
   ],
   "source": [
    "# y = x A^T + b\n",
    "inputs @ params[0].T + params[1]"
   ]
  },
  {
   "cell_type": "markdown",
   "metadata": {},
   "source": [
    "## device"
   ]
  },
  {
   "cell_type": "code",
   "execution_count": null,
   "metadata": {},
   "outputs": [
    {
     "data": {
      "text/plain": [
       "device(type='cuda')"
      ]
     },
     "execution_count": null,
     "metadata": {},
     "output_type": "execute_result"
    }
   ],
   "source": [
    "device = torch.device('cuda' if torch.cuda.is_available() else 'cpu')\n",
    "device"
   ]
  },
  {
   "cell_type": "code",
   "execution_count": null,
   "metadata": {},
   "outputs": [
    {
     "name": "stdout",
     "output_type": "stream",
     "text": [
      "Expected all tensors to be on the same device, but found at least two devices, cuda:0 and cpu! (when checking argument for argument mat1 in method wrapper_CUDA_addmm)\n"
     ]
    }
   ],
   "source": [
    "try:\n",
    "    model = RegressionModel()\n",
    "    model.to(device)\n",
    "    model(inputs)\n",
    "except Exception as e:\n",
    "    print(e)"
   ]
  },
  {
   "cell_type": "code",
   "execution_count": null,
   "metadata": {},
   "outputs": [
    {
     "data": {
      "text/plain": [
       "tensor([[-5.7785],\n",
       "        [-5.6745]], device='cuda:0', grad_fn=<AddmmBackward0>)"
      ]
     },
     "execution_count": null,
     "metadata": {},
     "output_type": "execute_result"
    }
   ],
   "source": [
    "model = RegressionModel()\n",
    "model = model.to(device)\n",
    "inputs = inputs.to(device)\n",
    "model(inputs)"
   ]
  },
  {
   "cell_type": "markdown",
   "metadata": {},
   "source": [
    "## Training"
   ]
  },
  {
   "cell_type": "code",
   "execution_count": null,
   "metadata": {},
   "outputs": [
    {
     "name": "stdout",
     "output_type": "stream",
     "text": [
      "Epoch [  0], Loss: 158.6125\n",
      "Epoch [ 10], Loss: 31.4738\n",
      "Epoch [ 20], Loss: 26.5600\n",
      "Epoch [ 30], Loss: 22.4603\n",
      "Epoch [ 40], Loss: 19.0993\n",
      "Epoch [ 50], Loss: 16.3484\n",
      "Epoch [ 60], Loss: 14.0969\n",
      "Epoch [ 70], Loss: 12.2542\n",
      "Epoch [ 80], Loss: 10.7460\n",
      "Epoch [ 90], Loss: 9.5116\n",
      "Epoch [100], Loss: 8.5012\n",
      "Epoch [110], Loss: 7.6742\n",
      "Epoch [120], Loss: 6.9973\n",
      "Epoch [130], Loss: 6.4433\n",
      "Epoch [140], Loss: 5.9898\n",
      "Epoch [150], Loss: 5.6186\n",
      "Epoch [160], Loss: 5.3147\n",
      "Epoch [170], Loss: 5.0660\n",
      "Epoch [180], Loss: 4.8624\n",
      "Epoch [190], Loss: 4.6957\n",
      "Epoch [199], Loss: 4.5717\n"
     ]
    }
   ],
   "source": [
    "# Initialize model, loss function(criterion), optimizer\n",
    "model = RegressionModel()\n",
    "model = model.to(device)\n",
    "criterion = nn.MSELoss()\n",
    "optimizer = optim.SGD(model.parameters(), lr=0.0001)\n",
    "\n",
    "# Training loop\n",
    "num_epochs = 200\n",
    "losses = []\n",
    "for epoch in range(num_epochs):\n",
    "    train_loss = 0.0\n",
    "    for batch in dataloader:\n",
    "        x, y = batch\n",
    "        x, y = x.to(device), y.to(device)\n",
    "\n",
    "        # Foward propagation\n",
    "        predictions = model(x)\n",
    "        loss = criterion(predictions, y)\n",
    "\n",
    "        # Backpropagation and update weights & biases\n",
    "        optimizer.zero_grad()\n",
    "        loss.backward()\n",
    "        optimizer.step()\n",
    "\n",
    "        # Save loss\n",
    "        train_loss += loss.item()\n",
    "\n",
    "    train_loss /= len(dataloader)\n",
    "    losses.append(train_loss)\n",
    "\n",
    "    if epoch % 10 == 0 or epoch == num_epochs - 1:\n",
    "        print(f\"Epoch [{epoch:3d}], Loss: {train_loss:.4f}\")"
   ]
  },
  {
   "cell_type": "code",
   "execution_count": null,
   "metadata": {},
   "outputs": [
    {
     "data": {
      "image/png": "[encoded data removed]",
      "text/plain": [
       "<Figure size 640x480 with 1 Axes>"
      ]
     },
     "metadata": {},
     "output_type": "display_data"
    }
   ],
   "source": [
    "plt.figure()\n",
    "plt.plot(losses)\n",
    "plt.xlabel('epoch')\n",
    "plt.ylabel('loss')\n",
    "plt.show()"
   ]
  },
  {
   "cell_type": "markdown",
   "metadata": {},
   "source": [
    "## Inference"
   ]
  },
  {
   "cell_type": "code",
   "execution_count": null,
   "metadata": {},
   "outputs": [
    {
     "data": {
      "image/png": "[encoded data removed]",
      "text/plain": [
       "<Figure size 640x480 with 1 Axes>"
      ]
     },
     "metadata": {},
     "output_type": "display_data"
    }
   ],
   "source": [
    "# with torch.no_grad():\n",
    "with torch.inference_mode():\n",
    "    y_pred = model(dataset.x.to(device)).detach().cpu()\n",
    "\n",
    "plt.figure()\n",
    "plt.plot(dataset.x, dataset.y, 'o', label='data', color='black')\n",
    "plt.plot(dataset.x, y_true(dataset.x), '-', label='y=2x + 5', color='red')\n",
    "plt.plot(dataset.x, y_pred, '-', label='prediction', color='blue')\n",
    "plt.xlabel('x')\n",
    "plt.ylabel('y')\n",
    "plt.legend()\n",
    "plt.show()"
   ]
  },
  {
   "cell_type": "code",
   "execution_count": null,
   "metadata": {},
   "outputs": [
    {
     "name": "stdout",
     "output_type": "stream",
     "text": [
      "Parameter containing:\n",
      "tensor([[2.0480]], device='cuda:0', requires_grad=True)\n",
      "Parameter containing:\n",
      "tensor([4.4319], device='cuda:0', requires_grad=True)\n"
     ]
    }
   ],
   "source": [
    "params = []\n",
    "for p in model.parameters():\n",
    "  print(p)\n",
    "  params.append(p.data)"
   ]
  },
  {
   "cell_type": "code",
   "execution_count": null,
   "metadata": {},
   "outputs": [
    {
     "data": {
      "text/plain": [
       "True"
      ]
     },
     "execution_count": null,
     "metadata": {},
     "output_type": "execute_result"
    }
   ],
   "source": [
    "y_pred_manual = dataset.x.to(device) @ params[0].T + params[1]\n",
    "y_pred_manual = y_pred_manual.detach().cpu()\n",
    "torch.allclose(y_pred, y_pred_manual)"
   ]
  },
  {
   "cell_type": "code",
   "execution_count": null,
   "metadata": {},
   "outputs": [
    {
     "data": {
      "image/png": "[encoded data removed]",
      "text/plain": [
       "<Figure size 640x480 with 1 Axes>"
      ]
     },
     "metadata": {},
     "output_type": "display_data"
    }
   ],
   "source": [
    "if params[1].item() > 0:\n",
    "  label = f'y={params[0].item():.2f}x + {params[1].item():.2f}'\n",
    "else:\n",
    "  label = f'y={params[0].item():.2f}x - {abs(params[1].item()):.2f}'\n",
    "\n",
    "plt.figure()\n",
    "plt.plot(dataset.x, dataset.y, 'o', label='data', color='black')\n",
    "plt.plot(dataset.x, y_true(dataset.x), '-', label='y=2x + 5', color='red')\n",
    "plt.plot(dataset.x, y_pred, '-', label=label, color='blue')\n",
    "plt.xlabel('x')\n",
    "plt.ylabel('y')\n",
    "plt.legend()\n",
    "plt.show()"
   ]
  },
  {
   "cell_type": "markdown",
   "metadata": {},
   "source": [
    "## Summary"
   ]
  },
  {
   "cell_type": "code",
   "execution_count": null,
   "metadata": {},
   "outputs": [
    {
     "name": "stdout",
     "output_type": "stream",
     "text": [
      "Epoch [  0], Loss: 105.1441\n",
      "Epoch [ 10], Loss: 22.3004\n",
      "Epoch [ 20], Loss: 19.0691\n",
      "Epoch [ 30], Loss: 16.4873\n",
      "Epoch [ 40], Loss: 14.3490\n",
      "Epoch [ 50], Loss: 12.6278\n",
      "Epoch [ 60], Loss: 11.1988\n",
      "Epoch [ 70], Loss: 10.0501\n",
      "Epoch [ 80], Loss: 9.0917\n",
      "Epoch [ 90], Loss: 8.3152\n",
      "Epoch [100], Loss: 7.6847\n",
      "Epoch [110], Loss: 7.1532\n",
      "Epoch [120], Loss: 6.7322\n",
      "Epoch [130], Loss: 6.3707\n",
      "Epoch [140], Loss: 6.0971\n",
      "Epoch [150], Loss: 5.8658\n",
      "Epoch [160], Loss: 5.6683\n",
      "Epoch [170], Loss: 5.5130\n",
      "Epoch [180], Loss: 5.3884\n",
      "Epoch [190], Loss: 5.2792\n",
      "Epoch [199], Loss: 5.2029\n"
     ]
    },
    {
     "data": {
      "image/png": "[encoded data removed]",
      "text/plain": [
       "<Figure size 640x480 with 1 Axes>"
      ]
     },
     "metadata": {},
     "output_type": "display_data"
    },
    {
     "data": {
      "image/png": "[encoded data removed]",
      "text/plain": [
       "<Figure size 640x480 with 1 Axes>"
      ]
     },
     "metadata": {},
     "output_type": "display_data"
    }
   ],
   "source": [
    "import torch\n",
    "import torch.nn as nn\n",
    "import torch.optim as optim\n",
    "from torch.utils.data import Dataset, DataLoader\n",
    "\n",
    "# Define Dataset\n",
    "class RegressionDataset(Dataset):\n",
    "    def __init__(self, N=100):\n",
    "        x = torch.linspace(-10, 10, N).view(-1, 1)\n",
    "        noise = torch.randn_like(x) * 2\n",
    "        y = 2*x + 5 + noise\n",
    "        self.x = x\n",
    "        self.y = y\n",
    "\n",
    "    def __len__(self):\n",
    "        return len(self.x)\n",
    "\n",
    "    def __getitem__(self, idx):\n",
    "        return self.x[idx], self.y[idx]\n",
    "\n",
    "# Define Model\n",
    "class RegressionModel(nn.Module):\n",
    "    def __init__(self):\n",
    "        super().__init__()\n",
    "\n",
    "        self.model = nn.Linear(1, 1)\n",
    "\n",
    "    def forward(self, x):\n",
    "        return self.model(x)\n",
    "\n",
    "# Dataset, DataLoader\n",
    "dataset = RegressionDataset()\n",
    "dataloader = DataLoader(dataset, batch_size=2, shuffle=True)\n",
    "\n",
    "# Model, Optimizer, Criterion\n",
    "model = RegressionModel()\n",
    "optimizer = optim.SGD(model.parameters(), lr=0.0001)\n",
    "criterion = nn.MSELoss()\n",
    "\n",
    "# Training loop\n",
    "num_epochs = 200\n",
    "losses = []\n",
    "for epoch in range(num_epochs):\n",
    "    train_loss = 0.0\n",
    "    for batch in dataloader:\n",
    "        x, y = batch\n",
    "\n",
    "        # Foward propagation\n",
    "        predictions = model(x)\n",
    "        loss = criterion(predictions, y)\n",
    "\n",
    "        # Backpropagation and update weights & biases\n",
    "        optimizer.zero_grad()\n",
    "        loss.backward()\n",
    "        optimizer.step()\n",
    "\n",
    "        # Save loss\n",
    "        train_loss += loss.item()\n",
    "\n",
    "    train_loss /= len(dataloader)\n",
    "    losses.append(train_loss)\n",
    "\n",
    "    if epoch % 10 == 0 or epoch == num_epochs - 1:\n",
    "        print(f\"Epoch [{epoch:3d}], Loss: {train_loss:.4f}\")\n",
    "\n",
    "# Loss curve\n",
    "plt.figure()\n",
    "plt.plot(losses)\n",
    "plt.xlabel('epoch')\n",
    "plt.ylabel('loss')\n",
    "plt.show()\n",
    "\n",
    "# Inference\n",
    "def get_label(model):\n",
    "    params = []\n",
    "    for p in model.parameters():\n",
    "        params.append(p.data)\n",
    "    if params[1].item() > 0:\n",
    "      label = f'y={params[0].item():.2f}x + {params[1].item():.2f}'\n",
    "    else:\n",
    "      label = f'y={params[0].item():.2f}x - {abs(params[1].item()):.2f}'\n",
    "    return label\n",
    "\n",
    "with torch.inference_mode():\n",
    "    y_pred = model(dataset.x)\n",
    "\n",
    "label = get_label(model)\n",
    "\n",
    "plt.figure()\n",
    "plt.plot(dataset.x, dataset.y, 'o', label='data', color='black')\n",
    "plt.plot(dataset.x, y_true(dataset.x), '-', label='y=2x + 5', color='red')\n",
    "plt.plot(dataset.x, y_pred, '-', label=label, color='blue')\n",
    "plt.xlabel('x')\n",
    "plt.ylabel('y')\n",
    "plt.legend()\n",
    "plt.show()"
   ]
  },
  {
   "cell_type": "code",
   "execution_count": null,
   "metadata": {},
   "outputs": [],
   "source": []
  }
 ],
 "metadata": {
  "kernelspec": {
   "display_name": "python3",
   "language": "python",
   "name": "python3"
  }
 },
 "nbformat": 4,
 "nbformat_minor": 4
}
